{
 "cells": [
  {
   "cell_type": "code",
   "execution_count": null,
   "metadata": {},
   "outputs": [
    {
     "name": "stderr",
     "output_type": "stream",
     "text": [
      "usage: ipykernel_launcher.py [-h] -i IMAGE\n",
      "ipykernel_launcher.py: error: the following arguments are required: -i/--image\n"
     ]
    },
    {
     "ename": "SystemExit",
     "evalue": "2",
     "output_type": "error",
     "traceback": [
      "An exception has occurred, use %tb to see the full traceback.\n",
      "\u001b[1;31mSystemExit\u001b[0m\u001b[1;31m:\u001b[0m 2\n"
     ]
    },
    {
     "name": "stderr",
     "output_type": "stream",
     "text": [
      "c:\\Users\\Kenan\\anaconda3\\envs\\NvidiaEnv\\lib\\site-packages\\IPython\\core\\interactiveshell.py:3585: UserWarning: To exit: use 'exit', 'quit', or Ctrl-D.\n",
      "  warn(\"To exit: use 'exit', 'quit', or Ctrl-D.\", stacklevel=1)\n"
     ]
    }
   ],
   "source": [
    "import cv2\n",
    "import torch\n",
    "import torch.nn as nn\n",
    "from torchvision import transforms, models\n",
    "from PIL import Image\n",
    "import numpy as np\n",
    "import argparse\n",
    "\n",
    "# Constants\n",
    "DEVICE = torch.device(\"cuda\" if torch.cuda.is_available() else \"cpu\")\n",
    "IMG_SIZE = 224\n",
    "MODEL_PATH = \"resnetv1_fruit_model.pth\"  # Path to the trained model\n",
    "# C:\\Users\\Kenan\\Downloads\\CNN_train_test_model\\resnet_fruit_model.pth\n",
    "\n",
    "# Classes\n",
    "FRUIT_CLASSES = [\"1. Green\", \"1. Ripe\", \"1. Semi-Ripe\", \"2. Green Defect\", \"2. Ripe Defect\", \"2. Semi-Ripe Defect\"]\n",
    "BRUISED_CLASSES = [\"Not Bruised\", \"Bruised\"]\n",
    "\n",
    "\"\"\"\n",
    "# Construct the argument parser and parse the arguments\n",
    "ap = argparse.ArgumentParser()\n",
    "ap.add_argument(\"-i\", \"--image\", required = True,\n",
    "\thelp = \"Path to the image\")\n",
    "args = vars(ap.parse_args())\n",
    "\"\"\"\n"
   ]
  },
  {
   "cell_type": "code",
   "execution_count": 7,
   "metadata": {},
   "outputs": [],
   "source": [
    "\n",
    "# Preprocessing transformations\n",
    "transform = transforms.Compose([\n",
    "    transforms.Resize((IMG_SIZE, IMG_SIZE)),\n",
    "    transforms.ToTensor(),\n",
    "    transforms.Normalize([0.485, 0.456, 0.406], [0.229, 0.224, 0.225])\n",
    "])\n"
   ]
  },
  {
   "cell_type": "code",
   "execution_count": 4,
   "metadata": {},
   "outputs": [],
   "source": [
    "\n",
    "# Model definition (same as training script)\n",
    "class ResNetClassifier(nn.Module):\n",
    "    def __init__(self, num_classes, bruised_classes):\n",
    "        super(ResNetClassifier, self).__init__()\n",
    "        self.base_model = models.resnet50(weights=models.ResNet50_Weights.DEFAULT)\n",
    "        \n",
    "        # Save the input feature size of the original fc layer before replacing it\n",
    "        in_features = self.base_model.fc.in_features\n",
    "        \n",
    "        # Replace the fc layer with an Identity layer\n",
    "        self.base_model.fc = nn.Identity()\n",
    "        \n",
    "        # Define new classification layers\n",
    "        self.classifier = nn.Linear(in_features, num_classes)\n",
    "        self.bruised_classifier = nn.Linear(in_features, bruised_classes)\n",
    "\n",
    "    def forward(self, x):\n",
    "        x = self.base_model(x)  # Feature extraction\n",
    "        fruit_class = self.classifier(x)  # Fruit and freshness classification\n",
    "        bruised_class = self.bruised_classifier(x)  # Bruised/Not Bruised classification\n",
    "        return fruit_class, bruised_class\n"
   ]
  },
  {
   "cell_type": "code",
   "execution_count": 5,
   "metadata": {},
   "outputs": [
    {
     "name": "stderr",
     "output_type": "stream",
     "text": [
      "C:\\Users\\Kenan\\AppData\\Local\\Temp\\ipykernel_19880\\2021014044.py:3: FutureWarning: You are using `torch.load` with `weights_only=False` (the current default value), which uses the default pickle module implicitly. It is possible to construct malicious pickle data which will execute arbitrary code during unpickling (See https://github.com/pytorch/pytorch/blob/main/SECURITY.md#untrusted-models for more details). In a future release, the default value for `weights_only` will be flipped to `True`. This limits the functions that could be executed during unpickling. Arbitrary objects will no longer be allowed to be loaded via this mode unless they are explicitly allowlisted by the user via `torch.serialization.add_safe_globals`. We recommend you start setting `weights_only=True` for any use case where you don't have full control of the loaded file. Please open an issue on GitHub for any issues related to this experimental feature.\n",
      "  model.load_state_dict(torch.load(MODEL_PATH))\n"
     ]
    },
    {
     "data": {
      "text/plain": [
       "'\\ndef count_fruits(frame):\\n    gray = cv2.cvtColor(frame, cv2.COLOR_BGR2GRAY)\\n    blurred = cv2.GaussianBlur(gray, (5, 5), 0)\\n    _, thresh = cv2.threshold(blurred, 50, 255, cv2.THRESH_BINARY_INV)\\n    contours, _ = cv2.findContours(thresh, cv2.RETR_EXTERNAL, cv2.CHAIN_APPROX_SIMPLE)\\n    return len(contours)\\n'"
      ]
     },
     "execution_count": 5,
     "metadata": {},
     "output_type": "execute_result"
    }
   ],
   "source": [
    "\n",
    "# Load model\n",
    "model = ResNetClassifier(len(FRUIT_CLASSES), len(BRUISED_CLASSES)).to(DEVICE)\n",
    "model.load_state_dict(torch.load(MODEL_PATH))\n",
    "model.eval()\n",
    "\n",
    "# Fruit counter\n",
    "\"\"\"\n",
    "def count_fruits(frame):\n",
    "    gray = cv2.cvtColor(frame, cv2.COLOR_BGR2GRAY)\n",
    "    blurred = cv2.GaussianBlur(gray, (5, 5), 0)\n",
    "    _, thresh = cv2.threshold(blurred, 50, 255, cv2.THRESH_BINARY_INV)\n",
    "    contours, _ = cv2.findContours(thresh, cv2.RETR_EXTERNAL, cv2.CHAIN_APPROX_SIMPLE)\n",
    "    return len(contours)\n",
    "\"\"\"\n"
   ]
  },
  {
   "cell_type": "code",
   "execution_count": null,
   "metadata": {},
   "outputs": [],
   "source": [
    "\n",
    "# Real-time inference\n",
    "def live_inference():\n",
    "    cap = cv2.VideoCapture(0)\n",
    "    while True:\n",
    "        ret, frame = cap.read()\n",
    "        if not ret:\n",
    "            break\n",
    "        \n",
    "        # Fruit Count\n",
    "        # num_fruits = count_fruits(frame)\n",
    "\n",
    "        # Classification\n",
    "        img = Image.fromarray(cv2.cvtColor(frame, cv2.COLOR_BGR2RGB))\n",
    "        img_tensor = transform(img).unsqueeze(0).to(DEVICE)\n",
    "        with torch.no_grad():\n",
    "            fruit_pred, bruised_pred = model(img_tensor)\n",
    "            fruit_class = torch.argmax(fruit_pred, dim=1).item()\n",
    "            bruised_class = torch.argmax(bruised_pred, dim=1).item()\n",
    "\n",
    "        # Get classifications\n",
    "        fruit_name = FRUIT_CLASSES[fruit_class]\n",
    "        bruise_status = BRUISED_CLASSES[bruised_class]\n",
    "\n",
    "        # Display Results\n",
    "        # cv2.putText(frame, f\"Fruits Detected: {num_fruits}\", (10, 30), cv2.FONT_HERSHEY_SIMPLEX, 1, (255, 0, 0), 2)\n",
    "        cv2.putText(frame, f\"Bruised: {bruise_status}\", (10, 30), cv2.FONT_HERSHEY_SIMPLEX, 1, (255, 0, 0), 2)\n",
    "        cv2.putText(frame, f\"Type: {fruit_name}\", \n",
    "                    (10, 70), cv2.FONT_HERSHEY_SIMPLEX, 1, (255, 0, 0), 2)\n",
    "        cv2.imshow(\"Fruit Detector\", frame)\n",
    "\n",
    "        if cv2.waitKey(1) & 0xFF == ord('q'):\n",
    "            break\n",
    "    cap.release()\n",
    "    cv2.destroyAllWindows()\n"
   ]
  },
  {
   "cell_type": "code",
   "execution_count": null,
   "metadata": {},
   "outputs": [],
   "source": [
    "# Run live detection\n",
    "live_inference()"
   ]
  }
 ],
 "metadata": {
  "kernelspec": {
   "display_name": "NvidiaEnv",
   "language": "python",
   "name": "python3"
  },
  "language_info": {
   "codemirror_mode": {
    "name": "ipython",
    "version": 3
   },
   "file_extension": ".py",
   "mimetype": "text/x-python",
   "name": "python",
   "nbconvert_exporter": "python",
   "pygments_lexer": "ipython3",
   "version": "3.10.13"
  }
 },
 "nbformat": 4,
 "nbformat_minor": 2
}
