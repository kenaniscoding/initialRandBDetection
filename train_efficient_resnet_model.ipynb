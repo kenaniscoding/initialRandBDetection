{
 "cells": [
  {
   "cell_type": "markdown",
   "metadata": {},
   "source": [
    "## IMPORT"
   ]
  },
  {
   "cell_type": "code",
   "execution_count": 1,
   "metadata": {},
   "outputs": [],
   "source": [
    "import torch\n",
    "import torch.nn as nn\n",
    "import torch.optim as optim\n",
    "\n",
    "from torchvision import transforms, models\n",
    "from torchvision.datasets import ImageFolder\n",
    "from torch.utils.data import DataLoader\n",
    "from sklearn.metrics import precision_score, recall_score, f1_score, accuracy_score\n",
    "\n",
    "# Constants\n",
    "DEVICE = torch.device(\"cuda\" if torch.cuda.is_available() else \"cpu\")\n",
    "IMG_SIZE = 128\n",
    "BATCH_SIZE = 228  # Adjust for available VRAM\n",
    "NUM_CLASSES = 6  # Fresh/Rotten for each fruit\n",
    "BRUISED_CLASSES = 2  # Bruised or not bruised\n",
    "# full file path\n",
    "# C:\\Users\\Kenan\\Downloads\\CNN_train_test_model\\datasplit\n",
    "DATASET_PATH = 'datasplit'  # Change to the dataset path\n",
    "NUM_EPOCHS = 10"
   ]
  },
  {
   "cell_type": "code",
   "execution_count": 2,
   "metadata": {},
   "outputs": [],
   "source": [
    "\n",
    "# Preprocessing transformations\n",
    "transform = transforms.Compose([\n",
    "    transforms.Resize((IMG_SIZE, IMG_SIZE)),\n",
    "    transforms.ToTensor(),\n",
    "    transforms.Normalize([0.485, 0.456, 0.406], [0.229, 0.224, 0.225])\n",
    "])\n",
    "\n",
    "# Dataset and Dataloaders\n",
    "train_dataset = ImageFolder(root=f\"{DATASET_PATH}/train\", transform=transform)\n",
    "val_dataset = ImageFolder(root=f\"{DATASET_PATH}/val\", transform=transform)\n",
    "\n",
    "train_loader = DataLoader(train_dataset, batch_size=BATCH_SIZE, shuffle=True)\n",
    "val_loader = DataLoader(val_dataset, batch_size=BATCH_SIZE, shuffle=False)\n"
   ]
  },
  {
   "cell_type": "code",
   "execution_count": 3,
   "metadata": {},
   "outputs": [],
   "source": [
    "\n",
    "# Model definition\n",
    "class MultiTaskClassifier(nn.Module):\n",
    "    def __init__(self, base_model, num_classes, bruised_classes, is_efficientnet=False):\n",
    "        super(MultiTaskClassifier, self).__init__()\n",
    "        self.base_model = base_model\n",
    "        \n",
    "        # Check if the model is EfficientNet\n",
    "        if is_efficientnet:\n",
    "            # For EfficientNet, replace the classifier\n",
    "            in_features = self.base_model.classifier[1].in_features\n",
    "            self.base_model.classifier = nn.Identity()\n",
    "        else:\n",
    "            # For ResNet, replace the fc layer\n",
    "            in_features = self.base_model.fc.in_features\n",
    "            self.base_model.fc = nn.Identity()\n",
    "        \n",
    "        # Define new classification layers\n",
    "        self.classifier = nn.Linear(in_features, num_classes)\n",
    "        self.bruised_classifier = nn.Linear(in_features, bruised_classes)\n",
    "\n",
    "    def forward(self, x):\n",
    "        x = self.base_model(x)  # Feature extraction\n",
    "        fruit_class = self.classifier(x)  # Fruit and freshness classification\n",
    "        bruised_class = self.bruised_classifier(x)  # Bruised/Not Bruised classification\n",
    "        return fruit_class, bruised_class\n"
   ]
  },
  {
   "cell_type": "code",
   "execution_count": 4,
   "metadata": {},
   "outputs": [],
   "source": [
    "\n",
    "# Function to train a model\n",
    "def train_model(model, train_loader, criterion, optimizer, num_epochs):\n",
    "    model.train()\n",
    "    for epoch in range(num_epochs):\n",
    "        running_loss = 0.0\n",
    "        correct_preds = 0\n",
    "        total_samples = 0\n",
    "        \n",
    "        for inputs, labels in train_loader:\n",
    "            inputs, labels = inputs.to(DEVICE), labels.to(DEVICE)\n",
    "            \n",
    "            # Zero the gradients\n",
    "            optimizer.zero_grad()\n",
    "            \n",
    "            # Forward pass\n",
    "            fruit_pred, bruised_pred = model(inputs)\n",
    "            loss1 = criterion(fruit_pred, labels)  # Fruit type and freshness loss\n",
    "            loss2 = criterion(bruised_pred, labels % 2)  # Bruised/Not Bruised loss\n",
    "            loss = loss1 + loss2\n",
    "            \n",
    "            # Backward pass and optimization\n",
    "            loss.backward()\n",
    "            optimizer.step()\n",
    "            \n",
    "            # Statistics\n",
    "            running_loss += loss.item()\n",
    "            _, preds = torch.max(fruit_pred, 1)\n",
    "            correct_preds += (preds == labels).sum().item()\n",
    "            total_samples += labels.size(0)\n",
    "        \n",
    "        epoch_loss = running_loss / len(train_loader)\n",
    "        epoch_acc = correct_preds / total_samples\n",
    "        print(f\"Epoch {epoch+1}/{num_epochs}, Loss: {epoch_loss:.4f}, Accuracy: {epoch_acc:.4f}\")\n",
    "    \n",
    "    print(\"Training complete!\")\n",
    "    return model\n",
    "\n"
   ]
  },
  {
   "cell_type": "code",
   "execution_count": 5,
   "metadata": {},
   "outputs": [],
   "source": [
    "\n",
    "# Function to evaluate a model\n",
    "def evaluate_model(model, val_loader):\n",
    "    model.eval()\n",
    "    all_preds, all_labels = [], []\n",
    "    all_bruised_preds, all_bruised_labels = [], []\n",
    "    val_loss = 0.0\n",
    "\n",
    "    criterion = nn.CrossEntropyLoss()\n",
    "\n",
    "    with torch.no_grad():\n",
    "        for inputs, labels in val_loader:\n",
    "            inputs, labels = inputs.to(DEVICE), labels.to(DEVICE)\n",
    "            \n",
    "            # Forward pass\n",
    "            fruit_pred, bruised_pred = model(inputs)\n",
    "            loss1 = criterion(fruit_pred, labels)\n",
    "            loss2 = criterion(bruised_pred, labels % 2)\n",
    "            loss = loss1 + loss2\n",
    "            val_loss += loss.item()\n",
    "\n",
    "            # Store predictions\n",
    "            all_preds.extend(torch.argmax(fruit_pred, dim=1).cpu().numpy())\n",
    "            all_labels.extend(labels.cpu().numpy())\n",
    "            all_bruised_preds.extend(torch.argmax(bruised_pred, dim=1).cpu().numpy())\n",
    "            all_bruised_labels.extend((labels % 2).cpu().numpy())\n",
    "\n",
    "    # Metrics\n",
    "    precision = precision_score(all_labels, all_preds, average='weighted')\n",
    "    recall = recall_score(all_labels, all_preds, average='weighted')\n",
    "    f1 = f1_score(all_labels, all_preds, average='weighted')\n",
    "    accuracy = accuracy_score(all_labels, all_preds)\n",
    "    avg_loss = val_loss / len(val_loader)\n",
    "\n",
    "    return precision, recall, f1, accuracy, avg_loss\n",
    "\n"
   ]
  },
  {
   "cell_type": "code",
   "execution_count": 6,
   "metadata": {},
   "outputs": [
    {
     "name": "stdout",
     "output_type": "stream",
     "text": [
      "Training ResNet...\n",
      "Epoch 1/10, Loss: 2.3668, Accuracy: 0.2525\n",
      "Epoch 2/10, Loss: 1.3990, Accuracy: 0.7150\n",
      "Epoch 3/10, Loss: 0.6499, Accuracy: 0.8875\n",
      "Epoch 4/10, Loss: 0.3315, Accuracy: 0.9625\n",
      "Epoch 5/10, Loss: 0.2143, Accuracy: 0.9650\n",
      "Epoch 6/10, Loss: 0.1181, Accuracy: 0.9850\n",
      "Epoch 7/10, Loss: 0.0466, Accuracy: 0.9925\n",
      "Epoch 8/10, Loss: 0.0187, Accuracy: 1.0000\n",
      "Epoch 9/10, Loss: 0.0204, Accuracy: 1.0000\n",
      "Epoch 10/10, Loss: 0.0047, Accuracy: 1.0000\n",
      "Training complete!\n",
      "ResNet Metrics: Precision: 0.4961, Recall: 0.5089, F1-Score: 0.4470, Accuracy: 0.5089, Loss: 7.5313\n"
     ]
    },
    {
     "name": "stderr",
     "output_type": "stream",
     "text": [
      "c:\\Users\\Kenan\\anaconda3\\envs\\NvidiaEnv\\lib\\site-packages\\sklearn\\metrics\\_classification.py:1565: UndefinedMetricWarning: Precision is ill-defined and being set to 0.0 in labels with no predicted samples. Use `zero_division` parameter to control this behavior.\n",
      "  _warn_prf(average, modifier, f\"{metric.capitalize()} is\", len(result))\n"
     ]
    }
   ],
   "source": [
    "\n",
    "# Train and evaluate ResNet\n",
    "print(\"Training ResNet...\")\n",
    "resnet_model = MultiTaskClassifier(models.resnet50(weights=models.ResNet50_Weights.DEFAULT), NUM_CLASSES, BRUISED_CLASSES, is_efficientnet=False).to(DEVICE)\n",
    "optimizer = optim.Adam(resnet_model.parameters(), lr=0.001)\n",
    "resnet_model = train_model(resnet_model, train_loader, nn.CrossEntropyLoss(), optimizer, NUM_EPOCHS)\n",
    "resnet_metrics = evaluate_model(resnet_model, val_loader)\n",
    "print(f\"ResNet Metrics: Precision: {resnet_metrics[0]:.4f}, Recall: {resnet_metrics[1]:.4f}, F1-Score: {resnet_metrics[2]:.4f}, Accuracy: {resnet_metrics[3]:.4f}, Loss: {resnet_metrics[4]:.4f}\")\n"
   ]
  },
  {
   "cell_type": "code",
   "execution_count": 7,
   "metadata": {},
   "outputs": [
    {
     "name": "stdout",
     "output_type": "stream",
     "text": [
      "Training EfficientNet...\n"
     ]
    },
    {
     "name": "stderr",
     "output_type": "stream",
     "text": [
      "Downloading: \"https://download.pytorch.org/models/efficientnet_b0_rwightman-7f5810bc.pth\" to C:\\Users\\Kenan/.cache\\torch\\hub\\checkpoints\\efficientnet_b0_rwightman-7f5810bc.pth\n",
      "100%|██████████| 20.5M/20.5M [00:14<00:00, 1.50MB/s]\n"
     ]
    },
    {
     "name": "stdout",
     "output_type": "stream",
     "text": [
      "Epoch 1/10, Loss: 2.2804, Accuracy: 0.3550\n",
      "Epoch 2/10, Loss: 1.3031, Accuracy: 0.7900\n",
      "Epoch 3/10, Loss: 0.7590, Accuracy: 0.8875\n",
      "Epoch 4/10, Loss: 0.4342, Accuracy: 0.9275\n",
      "Epoch 5/10, Loss: 0.2172, Accuracy: 0.9775\n",
      "Epoch 6/10, Loss: 0.1173, Accuracy: 0.9825\n",
      "Epoch 7/10, Loss: 0.0636, Accuracy: 0.9975\n",
      "Epoch 8/10, Loss: 0.0464, Accuracy: 0.9900\n",
      "Epoch 9/10, Loss: 0.0794, Accuracy: 0.9900\n",
      "Epoch 10/10, Loss: 0.0309, Accuracy: 0.9975\n",
      "Training complete!\n",
      "EfficientNet Metrics: Precision: 0.6240, Recall: 0.6071, F1-Score: 0.5856, Accuracy: 0.6071, Loss: 4.3647\n"
     ]
    }
   ],
   "source": [
    "\n",
    "# Train and evaluate EfficientNet\n",
    "print(\"Training EfficientNet...\")\n",
    "efficientnet_model = MultiTaskClassifier(models.efficientnet_b0(weights=models.EfficientNet_B0_Weights.DEFAULT),NUM_CLASSES, BRUISED_CLASSES, is_efficientnet=True).to(DEVICE)\n",
    "optimizer = optim.Adam(efficientnet_model.parameters(), lr=0.001)\n",
    "efficientnet_model = train_model(efficientnet_model, train_loader, nn.CrossEntropyLoss(), optimizer, NUM_EPOCHS)\n",
    "efficientnet_metrics = evaluate_model(efficientnet_model, val_loader)\n",
    "print(f\"EfficientNet Metrics: Precision: {efficientnet_metrics[0]:.4f}, Recall: {efficientnet_metrics[1]:.4f}, F1-Score: {efficientnet_metrics[2]:.4f}, Accuracy: {efficientnet_metrics[3]:.4f}, Loss: {efficientnet_metrics[4]:.4f}\")\n"
   ]
  },
  {
   "cell_type": "code",
   "execution_count": 8,
   "metadata": {},
   "outputs": [
    {
     "name": "stdout",
     "output_type": "stream",
     "text": [
      "Models saved!\n"
     ]
    }
   ],
   "source": [
    "\n",
    "# Save the models\n",
    "torch.save(resnet_model.state_dict(), \"resnet_fruit_model.pth\")\n",
    "torch.save(efficientnet_model.state_dict(), \"efficientnet_fruit_model.pth\")\n",
    "print(\"Models saved!\")\n"
   ]
  }
 ],
 "metadata": {
  "kernelspec": {
   "display_name": "NvidiaEnv",
   "language": "python",
   "name": "python3"
  },
  "language_info": {
   "codemirror_mode": {
    "name": "ipython",
    "version": 3
   },
   "file_extension": ".py",
   "mimetype": "text/x-python",
   "name": "python",
   "nbconvert_exporter": "python",
   "pygments_lexer": "ipython3",
   "version": "3.10.13"
  }
 },
 "nbformat": 4,
 "nbformat_minor": 2
}
