{
 "cells": [
  {
   "cell_type": "markdown",
   "metadata": {},
   "source": [
    "## IMPORT"
   ]
  },
  {
   "cell_type": "code",
   "execution_count": 1,
   "metadata": {},
   "outputs": [],
   "source": [
    "import torch\n",
    "import torch.nn as nn\n",
    "import torch.optim as optim\n",
    "\n",
    "from torchvision import transforms, models\n",
    "from torchvision.datasets import ImageFolder\n",
    "from torch.utils.data import DataLoader\n",
    "from sklearn.metrics import precision_score, recall_score, f1_score, accuracy_score\n",
    "\n",
    "# Constants\n",
    "DEVICE = torch.device(\"cuda\" if torch.cuda.is_available() else \"cpu\")\n",
    "IMG_SIZE = 128\n",
    "BATCH_SIZE = 228  # Adjust for available VRAM\n",
    "NUM_CLASSES = 6  # Fresh/Rotten for each fruit\n",
    "BRUISED_CLASSES = 2  # Bruised or not bruised\n",
    "# full file path\n",
    "# C:\\Users\\Kenan\\Downloads\\CNN_train_test_model\\datasplit\n",
    "DATASET_PATH = 'datasplit' \n",
    "NUM_EPOCHS = 10"
   ]
  },
  {
   "cell_type": "code",
   "execution_count": 2,
   "metadata": {},
   "outputs": [],
   "source": [
    "# Preprocessing transformations\n",
    "transform = transforms.Compose([\n",
    "    transforms.Resize((IMG_SIZE, IMG_SIZE)),\n",
    "    transforms.ToTensor(),\n",
    "    transforms.Normalize([0.485, 0.456, 0.406], [0.229, 0.224, 0.225])\n",
    "])\n",
    "\n",
    "# Dataset and Dataloaders\n",
    "train_dataset = ImageFolder(root=f\"{DATASET_PATH}/train\", transform=transform)\n",
    "val_dataset = ImageFolder(root=f\"{DATASET_PATH}/val\", transform=transform)\n",
    "\n",
    "train_loader = DataLoader(train_dataset, batch_size=BATCH_SIZE, shuffle=True)\n",
    "val_loader = DataLoader(val_dataset, batch_size=BATCH_SIZE, shuffle=False)"
   ]
  },
  {
   "cell_type": "code",
   "execution_count": 3,
   "metadata": {},
   "outputs": [],
   "source": [
    "\n",
    "# Model definition\n",
    "class ResNetClassifier(nn.Module):\n",
    "    def __init__(self, num_classes, bruised_classes):\n",
    "        super(ResNetClassifier, self).__init__()\n",
    "        self.base_model = models.resnet50(pretrained=True)\n",
    "        \n",
    "        # Save the input feature size of the original fc layer\n",
    "        in_features = self.base_model.fc.in_features\n",
    "        \n",
    "        # Replace the fc layer with an Identity layer\n",
    "        self.base_model.fc = nn.Identity()\n",
    "        \n",
    "        # Define new classification layers\n",
    "        self.classifier = nn.Linear(in_features, num_classes)\n",
    "        self.bruised_classifier = nn.Linear(in_features, bruised_classes)\n",
    "\n",
    "    def forward(self, x):\n",
    "        x = self.base_model(x)  # Feature extraction\n",
    "        fruit_class = self.classifier(x)  # Fruit and freshness classification\n",
    "        bruised_class = self.bruised_classifier(x)  # Bruised/Not Bruised classification\n",
    "        return fruit_class, bruised_class\n",
    "\n"
   ]
  },
  {
   "cell_type": "code",
   "execution_count": 4,
   "metadata": {},
   "outputs": [
    {
     "name": "stderr",
     "output_type": "stream",
     "text": [
      "c:\\Users\\Kenan\\anaconda3\\envs\\NvidiaEnv\\lib\\site-packages\\torchvision\\models\\_utils.py:208: UserWarning: The parameter 'pretrained' is deprecated since 0.13 and may be removed in the future, please use 'weights' instead.\n",
      "  warnings.warn(\n",
      "c:\\Users\\Kenan\\anaconda3\\envs\\NvidiaEnv\\lib\\site-packages\\torchvision\\models\\_utils.py:223: UserWarning: Arguments other than a weight enum or `None` for 'weights' are deprecated since 0.13 and may be removed in the future. The current behavior is equivalent to passing `weights=ResNet50_Weights.IMAGENET1K_V1`. You can also use `weights=ResNet50_Weights.DEFAULT` to get the most up-to-date weights.\n",
      "  warnings.warn(msg)\n"
     ]
    }
   ],
   "source": [
    "\n",
    "# Initialize the model\n",
    "model = ResNetClassifier(NUM_CLASSES, BRUISED_CLASSES).to(DEVICE)\n",
    "\n",
    "# Optimizer and Loss\n",
    "optimizer = optim.Adam(model.parameters(), lr=0.001)\n",
    "criterion = nn.CrossEntropyLoss()\n"
   ]
  },
  {
   "cell_type": "code",
   "execution_count": 5,
   "metadata": {},
   "outputs": [],
   "source": [
    "\n",
    "# Training Function\n",
    "def train_model(model, train_loader, val_loader, criterion, optimizer, num_epochs):\n",
    "    model.train()\n",
    "    for epoch in range(num_epochs):\n",
    "        running_loss = 0.0\n",
    "        correct_preds = 0\n",
    "        total_samples = 0\n",
    "        \n",
    "        for inputs, labels in train_loader:\n",
    "            inputs, labels = inputs.to(DEVICE), labels.to(DEVICE)\n",
    "            \n",
    "            # Zero the gradients\n",
    "            optimizer.zero_grad()\n",
    "            \n",
    "            # Forward pass\n",
    "            fruit_pred, bruised_pred = model(inputs)\n",
    "            loss1 = criterion(fruit_pred, labels)  # Fruit type and freshness loss\n",
    "            loss2 = criterion(bruised_pred, labels % 2)  # Bruised/Not Bruised loss\n",
    "            loss = loss1 + loss2\n",
    "            \n",
    "            # Backward pass and optimization\n",
    "            loss.backward()\n",
    "            optimizer.step()\n",
    "            \n",
    "            # Statistics\n",
    "            running_loss += loss.item()\n",
    "            _, preds = torch.max(fruit_pred, 1)\n",
    "            correct_preds += (preds == labels).sum().item()\n",
    "            total_samples += labels.size(0)\n",
    "        \n",
    "        epoch_loss = running_loss / len(train_loader)\n",
    "        epoch_acc = correct_preds / total_samples\n",
    "        print(f\"Epoch {epoch+1}/{num_epochs}, Loss: {epoch_loss:.4f}, Accuracy: {epoch_acc:.4f}\")\n",
    "    \n",
    "    print(\"Training complete!\")\n",
    "    return model\n"
   ]
  },
  {
   "cell_type": "code",
   "execution_count": 6,
   "metadata": {},
   "outputs": [
    {
     "name": "stdout",
     "output_type": "stream",
     "text": [
      "Epoch 1/10, Loss: 2.1312, Accuracy: 0.3050\n",
      "Epoch 2/10, Loss: 2.6820, Accuracy: 0.3750\n",
      "Epoch 3/10, Loss: 1.8759, Accuracy: 0.6500\n",
      "Epoch 4/10, Loss: 0.9054, Accuracy: 0.8075\n",
      "Epoch 5/10, Loss: 0.8336, Accuracy: 0.8175\n",
      "Epoch 6/10, Loss: 0.4757, Accuracy: 0.9075\n",
      "Epoch 7/10, Loss: 0.3120, Accuracy: 0.9400\n",
      "Epoch 8/10, Loss: 0.3028, Accuracy: 0.9425\n",
      "Epoch 9/10, Loss: 0.1134, Accuracy: 0.9775\n",
      "Epoch 10/10, Loss: 0.1735, Accuracy: 0.9675\n",
      "Training complete!\n",
      "Model saved to resnetv1_fruit_model.pth\n"
     ]
    }
   ],
   "source": [
    "\n",
    "# Train the model\n",
    "model = train_model(model, train_loader, val_loader, criterion, optimizer, NUM_EPOCHS)\n",
    "\n",
    "# Save the trained model\n",
    "torch.save(model.state_dict(), \"resnetv1_fruit_model.pth\")\n",
    "print(\"Model saved to resnetv1_fruit_model.pth\")\n"
   ]
  },
  {
   "cell_type": "code",
   "execution_count": 11,
   "metadata": {},
   "outputs": [],
   "source": [
    "# Function to evaluate a model\n",
    "def evaluate_model(model, val_loader):\n",
    "    model.eval()\n",
    "    all_preds, all_labels = [], []\n",
    "    all_bruised_preds, all_bruised_labels = [], []\n",
    "    val_loss = 0.0\n",
    "\n",
    "    criterion = nn.CrossEntropyLoss()\n",
    "\n",
    "    with torch.no_grad():\n",
    "        for inputs, labels in val_loader:\n",
    "            inputs, labels = inputs.to(DEVICE), labels.to(DEVICE)\n",
    "            \n",
    "            # Forward pass\n",
    "            fruit_pred, bruised_pred = model(inputs)\n",
    "            loss1 = criterion(fruit_pred, labels)\n",
    "            loss2 = criterion(bruised_pred, labels % 2)\n",
    "            loss = loss1 + loss2\n",
    "            val_loss += loss.item()\n",
    "\n",
    "            # Store predictions\n",
    "            all_preds.extend(torch.argmax(fruit_pred, dim=1).cpu().numpy())\n",
    "            all_labels.extend(labels.cpu().numpy())\n",
    "            all_bruised_preds.extend(torch.argmax(bruised_pred, dim=1).cpu().numpy())\n",
    "            all_bruised_labels.extend((labels % 2).cpu().numpy())\n",
    "\n",
    "    # Metrics\n",
    "    precision = precision_score(all_labels, all_preds, average='weighted')\n",
    "    recall = recall_score(all_labels, all_preds, average='weighted')\n",
    "    f1 = f1_score(all_labels, all_preds, average='weighted')\n",
    "    accuracy = accuracy_score(all_labels, all_preds)\n",
    "    avg_loss = val_loss / len(val_loader)\n",
    "\n",
    "    return precision, recall, f1, accuracy, avg_loss\n",
    "\n"
   ]
  },
  {
   "cell_type": "code",
   "execution_count": 12,
   "metadata": {},
   "outputs": [
    {
     "name": "stdout",
     "output_type": "stream",
     "text": [
      "ResNet Metrics: Precision: 0.5302, Recall: 0.6071, F1-Score: 0.5275, Accuracy: 0.6071, Loss: 15.2111\n"
     ]
    },
    {
     "name": "stderr",
     "output_type": "stream",
     "text": [
      "c:\\Users\\Kenan\\anaconda3\\envs\\NvidiaEnv\\lib\\site-packages\\sklearn\\metrics\\_classification.py:1565: UndefinedMetricWarning: Precision is ill-defined and being set to 0.0 in labels with no predicted samples. Use `zero_division` parameter to control this behavior.\n",
      "  _warn_prf(average, modifier, f\"{metric.capitalize()} is\", len(result))\n"
     ]
    }
   ],
   "source": [
    "# Metric Score of the ResNet\n",
    "resnet_metrics = evaluate_model(model, val_loader)\n",
    "print(f\"ResNet Metrics: Precision: {resnet_metrics[0]:.4f}, Recall: {resnet_metrics[1]:.4f}, F1-Score: {resnet_metrics[2]:.4f}, Accuracy: {resnet_metrics[3]:.4f}, Loss: {resnet_metrics[4]:.4f}\")\n"
   ]
  },
  {
   "cell_type": "markdown",
   "metadata": {},
   "source": [
    "## TODO\n"
   ]
  },
  {
   "cell_type": "code",
   "execution_count": null,
   "metadata": {},
   "outputs": [],
   "source": [
    "# display the graph for f-score, training, testing, and validation accuracy, together with the confusion matrix"
   ]
  },
  {
   "cell_type": "code",
   "execution_count": 8,
   "metadata": {},
   "outputs": [],
   "source": [
    "# try out other models and techniques"
   ]
  },
  {
   "cell_type": "code",
   "execution_count": 9,
   "metadata": {},
   "outputs": [],
   "source": [
    "# train and test the model image preprocessed (10,000 imagesssss    )"
   ]
  }
 ],
 "metadata": {
  "kernelspec": {
   "display_name": "NvidiaEnv",
   "language": "python",
   "name": "python3"
  },
  "language_info": {
   "codemirror_mode": {
    "name": "ipython",
    "version": 3
   },
   "file_extension": ".py",
   "mimetype": "text/x-python",
   "name": "python",
   "nbconvert_exporter": "python",
   "pygments_lexer": "ipython3",
   "version": "3.10.13"
  }
 },
 "nbformat": 4,
 "nbformat_minor": 2
}
